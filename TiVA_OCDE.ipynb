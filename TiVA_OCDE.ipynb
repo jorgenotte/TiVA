{
  "nbformat": 4,
  "nbformat_minor": 0,
  "metadata": {
    "colab": {
      "provenance": [],
      "include_colab_link": true
    },
    "kernelspec": {
      "name": "python3",
      "display_name": "Python 3"
    },
    "language_info": {
      "name": "python"
    }
  },
  "cells": [
    {
      "cell_type": "markdown",
      "metadata": {
        "id": "view-in-github",
        "colab_type": "text"
      },
      "source": [
        "<a href=\"https://colab.research.google.com/github/jorgenotte/TiVA/blob/main/TiVA_OCDE.ipynb\" target=\"_parent\"><img src=\"https://colab.research.google.com/assets/colab-badge.svg\" alt=\"Open In Colab\"/></a>"
      ]
    },
    {
      "cell_type": "code",
      "source": [
        "# Importar librerías necesarias\n",
        "\n",
        "import pandas as pd\n",
        "import numpy as np"
      ],
      "metadata": {
        "id": "nlPv69HmCiIo"
      },
      "execution_count": null,
      "outputs": []
    },
    {
      "cell_type": "code",
      "source": [
        "from google.colab import drive\n",
        "drive.mount('/content/drive')"
      ],
      "metadata": {
        "colab": {
          "base_uri": "https://localhost:8080/"
        },
        "id": "oZDb3qPZ2hGJ",
        "outputId": "d40e611c-89af-498a-fa40-9e16f9d7ed2d"
      },
      "execution_count": null,
      "outputs": [
        {
          "output_type": "stream",
          "name": "stdout",
          "text": [
            "Mounted at /content/drive\n"
          ]
        }
      ]
    },
    {
      "cell_type": "code",
      "source": [
        "# Crear DataFrame con el mapeo de codigos nace y codigos geo\n",
        "mapgeo=pd.read_excel('/content/drive/MyDrive/TiVA/mapeo.xlsx','geo').set_index('cod')\n",
        "mapnace=pd.read_excel('/content/drive/MyDrive/TiVA/mapeo.xlsx','nace').set_index('cod')\n",
        "\n",
        "# Convertir los DataFrame en diccionarios\n",
        "mapgeo=dict(mapgeo.to_dict()['geo'])\n",
        "mapnace=dict(mapnace.to_dict()['nace'])"
      ],
      "metadata": {
        "id": "mzs3s-lWhN3Y"
      },
      "execution_count": null,
      "outputs": []
    },
    {
      "cell_type": "code",
      "source": [
        "# Leer el fichero TiVA en un dataframe [3648 rows × 4109 columns]\n",
        "ruta='/content/drive/MyDrive/TiVA/TiVA_2020.csv'\n",
        "df=pd.read_csv(ruta)\n",
        "df"
      ],
      "metadata": {
        "id": "os_cNFLbuXNM",
        "colab": {
          "base_uri": "https://localhost:8080/",
          "height": 423
        },
        "outputId": "515577dd-8e8b-459a-9b10-ee6619576521"
      },
      "execution_count": null,
      "outputs": [
        {
          "output_type": "execute_result",
          "data": {
            "text/plain": [
              "              V1  ARG_A01_02    ARG_A03  ARG_B05_06  ARG_B07_08    ARG_B09  \\\n",
              "0     ARG_A01_02   7093.5057    12.6976      0.8651      2.8701     0.0000   \n",
              "1        ARG_A03      0.0000    65.5517      0.0186      0.0000     0.0000   \n",
              "2     ARG_B05_06      8.9094     0.0529    147.4795     11.7133    16.2799   \n",
              "3     ARG_B07_08      0.9630     0.0004     32.8632    154.1856     0.0000   \n",
              "4        ARG_B09      0.0000     0.0000   2534.4600     95.3887    99.8611   \n",
              "...          ...         ...        ...         ...         ...        ...   \n",
              "3643       CN2_S      0.0000     0.0000      0.0000      0.0000     0.0000   \n",
              "3644       CN2_T      0.0000     0.0000      0.0000      0.0000     0.0000   \n",
              "3645         TLS   2232.7148    80.0940    345.9149    172.9752    74.1402   \n",
              "3646          VA  21061.8923  1180.3898   7927.0054   2355.0114  1952.1089   \n",
              "3647         OUT  48568.4446  1794.9259  12925.4258   4352.4298  2934.9794   \n",
              "\n",
              "      ARG_C10T12  ARG_C13T15    ARG_C16  ARG_C17_18  ...   ZAF_GFCF  \\\n",
              "0     20572.6444    478.1061   117.7472     44.1526  ...     0.3456   \n",
              "1       306.9339      0.0000     0.0000      0.0165  ...     0.0000   \n",
              "2        18.5212      1.4532     0.8709      2.1615  ...     0.0014   \n",
              "3       196.4411      4.3678     0.0425     13.9015  ...     0.0000   \n",
              "4         0.0000      0.0000     0.0000      0.0000  ...     0.0000   \n",
              "...          ...         ...        ...         ...  ...        ...   \n",
              "3643      0.0000      0.0000     0.0000      0.0000  ...     0.0000   \n",
              "3644      0.0000      0.0000     0.0000      0.0000  ...     0.0000   \n",
              "3645   1525.1022    101.6188    60.9968    194.0880  ...  3162.2347   \n",
              "3646  20333.7509   2220.7002   949.1259   2147.2274  ...     0.0000   \n",
              "3647  71794.5808   5801.0423  2401.6695   7068.7092  ...     0.0000   \n",
              "\n",
              "      ZAF_INVNT  ZAF_DPABR    ROW_HFCE  ROW_NPISH   ROW_GGFC    ROW_GFCF  \\\n",
              "0           0.0     0.0230    887.6762     0.0856     7.8340     22.0950   \n",
              "1           0.0     0.0021     64.6657     0.0294     0.0711      0.0000   \n",
              "2           0.0     0.0001      0.3630     0.0001     0.0054      0.2522   \n",
              "3           0.0     0.0000     43.6990     0.0000     0.0000      0.0419   \n",
              "4           0.0     0.0000      0.0000     0.0000     0.0000      0.0781   \n",
              "...         ...        ...         ...        ...        ...         ...   \n",
              "3643        0.0     0.0000      0.0000     0.0000     0.0000      0.0000   \n",
              "3644        0.0     0.0000      0.0000     0.0000     0.0000      0.0000   \n",
              "3645        0.0    35.5072  81962.3991    56.9795 -6998.2598  36478.6151   \n",
              "3646        0.0     0.0000      0.0000     0.0000     0.0000      0.0000   \n",
              "3647        0.0     0.0000      0.0000     0.0000     0.0000      0.0000   \n",
              "\n",
              "      ROW_INVNT  ROW_DPABR           OUT  \n",
              "0       43.4881     5.0583  4.856844e+04  \n",
              "1        1.4968     0.4840  1.794926e+03  \n",
              "2        0.1786     0.0156  1.292543e+04  \n",
              "3        5.0773     0.0000  4.352430e+03  \n",
              "4        0.0000     0.0000  2.934979e+03  \n",
              "...         ...        ...           ...  \n",
              "3643     0.0000     0.0000  0.000000e+00  \n",
              "3644     0.0000     0.0000  0.000000e+00  \n",
              "3645  4242.3221  2918.4099  5.946540e+06  \n",
              "3646     0.0000     0.0000  0.000000e+00  \n",
              "3647     0.0000     0.0000  0.000000e+00  \n",
              "\n",
              "[3648 rows x 4109 columns]"
            ],
            "text/html": [
              "\n",
              "  <div id=\"df-efbca667-b2c9-4064-a0ad-6a3f2104aeb1\" class=\"colab-df-container\">\n",
              "    <div>\n",
              "<style scoped>\n",
              "    .dataframe tbody tr th:only-of-type {\n",
              "        vertical-align: middle;\n",
              "    }\n",
              "\n",
              "    .dataframe tbody tr th {\n",
              "        vertical-align: top;\n",
              "    }\n",
              "\n",
              "    .dataframe thead th {\n",
              "        text-align: right;\n",
              "    }\n",
              "</style>\n",
              "<table border=\"1\" class=\"dataframe\">\n",
              "  <thead>\n",
              "    <tr style=\"text-align: right;\">\n",
              "      <th></th>\n",
              "      <th>V1</th>\n",
              "      <th>ARG_A01_02</th>\n",
              "      <th>ARG_A03</th>\n",
              "      <th>ARG_B05_06</th>\n",
              "      <th>ARG_B07_08</th>\n",
              "      <th>ARG_B09</th>\n",
              "      <th>ARG_C10T12</th>\n",
              "      <th>ARG_C13T15</th>\n",
              "      <th>ARG_C16</th>\n",
              "      <th>ARG_C17_18</th>\n",
              "      <th>...</th>\n",
              "      <th>ZAF_GFCF</th>\n",
              "      <th>ZAF_INVNT</th>\n",
              "      <th>ZAF_DPABR</th>\n",
              "      <th>ROW_HFCE</th>\n",
              "      <th>ROW_NPISH</th>\n",
              "      <th>ROW_GGFC</th>\n",
              "      <th>ROW_GFCF</th>\n",
              "      <th>ROW_INVNT</th>\n",
              "      <th>ROW_DPABR</th>\n",
              "      <th>OUT</th>\n",
              "    </tr>\n",
              "  </thead>\n",
              "  <tbody>\n",
              "    <tr>\n",
              "      <th>0</th>\n",
              "      <td>ARG_A01_02</td>\n",
              "      <td>7093.5057</td>\n",
              "      <td>12.6976</td>\n",
              "      <td>0.8651</td>\n",
              "      <td>2.8701</td>\n",
              "      <td>0.0000</td>\n",
              "      <td>20572.6444</td>\n",
              "      <td>478.1061</td>\n",
              "      <td>117.7472</td>\n",
              "      <td>44.1526</td>\n",
              "      <td>...</td>\n",
              "      <td>0.3456</td>\n",
              "      <td>0.0</td>\n",
              "      <td>0.0230</td>\n",
              "      <td>887.6762</td>\n",
              "      <td>0.0856</td>\n",
              "      <td>7.8340</td>\n",
              "      <td>22.0950</td>\n",
              "      <td>43.4881</td>\n",
              "      <td>5.0583</td>\n",
              "      <td>4.856844e+04</td>\n",
              "    </tr>\n",
              "    <tr>\n",
              "      <th>1</th>\n",
              "      <td>ARG_A03</td>\n",
              "      <td>0.0000</td>\n",
              "      <td>65.5517</td>\n",
              "      <td>0.0186</td>\n",
              "      <td>0.0000</td>\n",
              "      <td>0.0000</td>\n",
              "      <td>306.9339</td>\n",
              "      <td>0.0000</td>\n",
              "      <td>0.0000</td>\n",
              "      <td>0.0165</td>\n",
              "      <td>...</td>\n",
              "      <td>0.0000</td>\n",
              "      <td>0.0</td>\n",
              "      <td>0.0021</td>\n",
              "      <td>64.6657</td>\n",
              "      <td>0.0294</td>\n",
              "      <td>0.0711</td>\n",
              "      <td>0.0000</td>\n",
              "      <td>1.4968</td>\n",
              "      <td>0.4840</td>\n",
              "      <td>1.794926e+03</td>\n",
              "    </tr>\n",
              "    <tr>\n",
              "      <th>2</th>\n",
              "      <td>ARG_B05_06</td>\n",
              "      <td>8.9094</td>\n",
              "      <td>0.0529</td>\n",
              "      <td>147.4795</td>\n",
              "      <td>11.7133</td>\n",
              "      <td>16.2799</td>\n",
              "      <td>18.5212</td>\n",
              "      <td>1.4532</td>\n",
              "      <td>0.8709</td>\n",
              "      <td>2.1615</td>\n",
              "      <td>...</td>\n",
              "      <td>0.0014</td>\n",
              "      <td>0.0</td>\n",
              "      <td>0.0001</td>\n",
              "      <td>0.3630</td>\n",
              "      <td>0.0001</td>\n",
              "      <td>0.0054</td>\n",
              "      <td>0.2522</td>\n",
              "      <td>0.1786</td>\n",
              "      <td>0.0156</td>\n",
              "      <td>1.292543e+04</td>\n",
              "    </tr>\n",
              "    <tr>\n",
              "      <th>3</th>\n",
              "      <td>ARG_B07_08</td>\n",
              "      <td>0.9630</td>\n",
              "      <td>0.0004</td>\n",
              "      <td>32.8632</td>\n",
              "      <td>154.1856</td>\n",
              "      <td>0.0000</td>\n",
              "      <td>196.4411</td>\n",
              "      <td>4.3678</td>\n",
              "      <td>0.0425</td>\n",
              "      <td>13.9015</td>\n",
              "      <td>...</td>\n",
              "      <td>0.0000</td>\n",
              "      <td>0.0</td>\n",
              "      <td>0.0000</td>\n",
              "      <td>43.6990</td>\n",
              "      <td>0.0000</td>\n",
              "      <td>0.0000</td>\n",
              "      <td>0.0419</td>\n",
              "      <td>5.0773</td>\n",
              "      <td>0.0000</td>\n",
              "      <td>4.352430e+03</td>\n",
              "    </tr>\n",
              "    <tr>\n",
              "      <th>4</th>\n",
              "      <td>ARG_B09</td>\n",
              "      <td>0.0000</td>\n",
              "      <td>0.0000</td>\n",
              "      <td>2534.4600</td>\n",
              "      <td>95.3887</td>\n",
              "      <td>99.8611</td>\n",
              "      <td>0.0000</td>\n",
              "      <td>0.0000</td>\n",
              "      <td>0.0000</td>\n",
              "      <td>0.0000</td>\n",
              "      <td>...</td>\n",
              "      <td>0.0000</td>\n",
              "      <td>0.0</td>\n",
              "      <td>0.0000</td>\n",
              "      <td>0.0000</td>\n",
              "      <td>0.0000</td>\n",
              "      <td>0.0000</td>\n",
              "      <td>0.0781</td>\n",
              "      <td>0.0000</td>\n",
              "      <td>0.0000</td>\n",
              "      <td>2.934979e+03</td>\n",
              "    </tr>\n",
              "    <tr>\n",
              "      <th>...</th>\n",
              "      <td>...</td>\n",
              "      <td>...</td>\n",
              "      <td>...</td>\n",
              "      <td>...</td>\n",
              "      <td>...</td>\n",
              "      <td>...</td>\n",
              "      <td>...</td>\n",
              "      <td>...</td>\n",
              "      <td>...</td>\n",
              "      <td>...</td>\n",
              "      <td>...</td>\n",
              "      <td>...</td>\n",
              "      <td>...</td>\n",
              "      <td>...</td>\n",
              "      <td>...</td>\n",
              "      <td>...</td>\n",
              "      <td>...</td>\n",
              "      <td>...</td>\n",
              "      <td>...</td>\n",
              "      <td>...</td>\n",
              "      <td>...</td>\n",
              "    </tr>\n",
              "    <tr>\n",
              "      <th>3643</th>\n",
              "      <td>CN2_S</td>\n",
              "      <td>0.0000</td>\n",
              "      <td>0.0000</td>\n",
              "      <td>0.0000</td>\n",
              "      <td>0.0000</td>\n",
              "      <td>0.0000</td>\n",
              "      <td>0.0000</td>\n",
              "      <td>0.0000</td>\n",
              "      <td>0.0000</td>\n",
              "      <td>0.0000</td>\n",
              "      <td>...</td>\n",
              "      <td>0.0000</td>\n",
              "      <td>0.0</td>\n",
              "      <td>0.0000</td>\n",
              "      <td>0.0000</td>\n",
              "      <td>0.0000</td>\n",
              "      <td>0.0000</td>\n",
              "      <td>0.0000</td>\n",
              "      <td>0.0000</td>\n",
              "      <td>0.0000</td>\n",
              "      <td>0.000000e+00</td>\n",
              "    </tr>\n",
              "    <tr>\n",
              "      <th>3644</th>\n",
              "      <td>CN2_T</td>\n",
              "      <td>0.0000</td>\n",
              "      <td>0.0000</td>\n",
              "      <td>0.0000</td>\n",
              "      <td>0.0000</td>\n",
              "      <td>0.0000</td>\n",
              "      <td>0.0000</td>\n",
              "      <td>0.0000</td>\n",
              "      <td>0.0000</td>\n",
              "      <td>0.0000</td>\n",
              "      <td>...</td>\n",
              "      <td>0.0000</td>\n",
              "      <td>0.0</td>\n",
              "      <td>0.0000</td>\n",
              "      <td>0.0000</td>\n",
              "      <td>0.0000</td>\n",
              "      <td>0.0000</td>\n",
              "      <td>0.0000</td>\n",
              "      <td>0.0000</td>\n",
              "      <td>0.0000</td>\n",
              "      <td>0.000000e+00</td>\n",
              "    </tr>\n",
              "    <tr>\n",
              "      <th>3645</th>\n",
              "      <td>TLS</td>\n",
              "      <td>2232.7148</td>\n",
              "      <td>80.0940</td>\n",
              "      <td>345.9149</td>\n",
              "      <td>172.9752</td>\n",
              "      <td>74.1402</td>\n",
              "      <td>1525.1022</td>\n",
              "      <td>101.6188</td>\n",
              "      <td>60.9968</td>\n",
              "      <td>194.0880</td>\n",
              "      <td>...</td>\n",
              "      <td>3162.2347</td>\n",
              "      <td>0.0</td>\n",
              "      <td>35.5072</td>\n",
              "      <td>81962.3991</td>\n",
              "      <td>56.9795</td>\n",
              "      <td>-6998.2598</td>\n",
              "      <td>36478.6151</td>\n",
              "      <td>4242.3221</td>\n",
              "      <td>2918.4099</td>\n",
              "      <td>5.946540e+06</td>\n",
              "    </tr>\n",
              "    <tr>\n",
              "      <th>3646</th>\n",
              "      <td>VA</td>\n",
              "      <td>21061.8923</td>\n",
              "      <td>1180.3898</td>\n",
              "      <td>7927.0054</td>\n",
              "      <td>2355.0114</td>\n",
              "      <td>1952.1089</td>\n",
              "      <td>20333.7509</td>\n",
              "      <td>2220.7002</td>\n",
              "      <td>949.1259</td>\n",
              "      <td>2147.2274</td>\n",
              "      <td>...</td>\n",
              "      <td>0.0000</td>\n",
              "      <td>0.0</td>\n",
              "      <td>0.0000</td>\n",
              "      <td>0.0000</td>\n",
              "      <td>0.0000</td>\n",
              "      <td>0.0000</td>\n",
              "      <td>0.0000</td>\n",
              "      <td>0.0000</td>\n",
              "      <td>0.0000</td>\n",
              "      <td>0.000000e+00</td>\n",
              "    </tr>\n",
              "    <tr>\n",
              "      <th>3647</th>\n",
              "      <td>OUT</td>\n",
              "      <td>48568.4446</td>\n",
              "      <td>1794.9259</td>\n",
              "      <td>12925.4258</td>\n",
              "      <td>4352.4298</td>\n",
              "      <td>2934.9794</td>\n",
              "      <td>71794.5808</td>\n",
              "      <td>5801.0423</td>\n",
              "      <td>2401.6695</td>\n",
              "      <td>7068.7092</td>\n",
              "      <td>...</td>\n",
              "      <td>0.0000</td>\n",
              "      <td>0.0</td>\n",
              "      <td>0.0000</td>\n",
              "      <td>0.0000</td>\n",
              "      <td>0.0000</td>\n",
              "      <td>0.0000</td>\n",
              "      <td>0.0000</td>\n",
              "      <td>0.0000</td>\n",
              "      <td>0.0000</td>\n",
              "      <td>0.000000e+00</td>\n",
              "    </tr>\n",
              "  </tbody>\n",
              "</table>\n",
              "<p>3648 rows × 4109 columns</p>\n",
              "</div>\n",
              "    <div class=\"colab-df-buttons\">\n",
              "\n",
              "  <div class=\"colab-df-container\">\n",
              "    <button class=\"colab-df-convert\" onclick=\"convertToInteractive('df-efbca667-b2c9-4064-a0ad-6a3f2104aeb1')\"\n",
              "            title=\"Convert this dataframe to an interactive table.\"\n",
              "            style=\"display:none;\">\n",
              "\n",
              "  <svg xmlns=\"http://www.w3.org/2000/svg\" height=\"24px\" viewBox=\"0 -960 960 960\">\n",
              "    <path d=\"M120-120v-720h720v720H120Zm60-500h600v-160H180v160Zm220 220h160v-160H400v160Zm0 220h160v-160H400v160ZM180-400h160v-160H180v160Zm440 0h160v-160H620v160ZM180-180h160v-160H180v160Zm440 0h160v-160H620v160Z\"/>\n",
              "  </svg>\n",
              "    </button>\n",
              "\n",
              "  <style>\n",
              "    .colab-df-container {\n",
              "      display:flex;\n",
              "      gap: 12px;\n",
              "    }\n",
              "\n",
              "    .colab-df-convert {\n",
              "      background-color: #E8F0FE;\n",
              "      border: none;\n",
              "      border-radius: 50%;\n",
              "      cursor: pointer;\n",
              "      display: none;\n",
              "      fill: #1967D2;\n",
              "      height: 32px;\n",
              "      padding: 0 0 0 0;\n",
              "      width: 32px;\n",
              "    }\n",
              "\n",
              "    .colab-df-convert:hover {\n",
              "      background-color: #E2EBFA;\n",
              "      box-shadow: 0px 1px 2px rgba(60, 64, 67, 0.3), 0px 1px 3px 1px rgba(60, 64, 67, 0.15);\n",
              "      fill: #174EA6;\n",
              "    }\n",
              "\n",
              "    .colab-df-buttons div {\n",
              "      margin-bottom: 4px;\n",
              "    }\n",
              "\n",
              "    [theme=dark] .colab-df-convert {\n",
              "      background-color: #3B4455;\n",
              "      fill: #D2E3FC;\n",
              "    }\n",
              "\n",
              "    [theme=dark] .colab-df-convert:hover {\n",
              "      background-color: #434B5C;\n",
              "      box-shadow: 0px 1px 3px 1px rgba(0, 0, 0, 0.15);\n",
              "      filter: drop-shadow(0px 1px 2px rgba(0, 0, 0, 0.3));\n",
              "      fill: #FFFFFF;\n",
              "    }\n",
              "  </style>\n",
              "\n",
              "    <script>\n",
              "      const buttonEl =\n",
              "        document.querySelector('#df-efbca667-b2c9-4064-a0ad-6a3f2104aeb1 button.colab-df-convert');\n",
              "      buttonEl.style.display =\n",
              "        google.colab.kernel.accessAllowed ? 'block' : 'none';\n",
              "\n",
              "      async function convertToInteractive(key) {\n",
              "        const element = document.querySelector('#df-efbca667-b2c9-4064-a0ad-6a3f2104aeb1');\n",
              "        const dataTable =\n",
              "          await google.colab.kernel.invokeFunction('convertToInteractive',\n",
              "                                                    [key], {});\n",
              "        if (!dataTable) return;\n",
              "\n",
              "        const docLinkHtml = 'Like what you see? Visit the ' +\n",
              "          '<a target=\"_blank\" href=https://colab.research.google.com/notebooks/data_table.ipynb>data table notebook</a>'\n",
              "          + ' to learn more about interactive tables.';\n",
              "        element.innerHTML = '';\n",
              "        dataTable['output_type'] = 'display_data';\n",
              "        await google.colab.output.renderOutput(dataTable, element);\n",
              "        const docLink = document.createElement('div');\n",
              "        docLink.innerHTML = docLinkHtml;\n",
              "        element.appendChild(docLink);\n",
              "      }\n",
              "    </script>\n",
              "  </div>\n",
              "\n",
              "\n",
              "<div id=\"df-916bab9e-df02-4821-b609-658b62de43a5\">\n",
              "  <button class=\"colab-df-quickchart\" onclick=\"quickchart('df-916bab9e-df02-4821-b609-658b62de43a5')\"\n",
              "            title=\"Suggest charts\"\n",
              "            style=\"display:none;\">\n",
              "\n",
              "<svg xmlns=\"http://www.w3.org/2000/svg\" height=\"24px\"viewBox=\"0 0 24 24\"\n",
              "     width=\"24px\">\n",
              "    <g>\n",
              "        <path d=\"M19 3H5c-1.1 0-2 .9-2 2v14c0 1.1.9 2 2 2h14c1.1 0 2-.9 2-2V5c0-1.1-.9-2-2-2zM9 17H7v-7h2v7zm4 0h-2V7h2v10zm4 0h-2v-4h2v4z\"/>\n",
              "    </g>\n",
              "</svg>\n",
              "  </button>\n",
              "\n",
              "<style>\n",
              "  .colab-df-quickchart {\n",
              "      --bg-color: #E8F0FE;\n",
              "      --fill-color: #1967D2;\n",
              "      --hover-bg-color: #E2EBFA;\n",
              "      --hover-fill-color: #174EA6;\n",
              "      --disabled-fill-color: #AAA;\n",
              "      --disabled-bg-color: #DDD;\n",
              "  }\n",
              "\n",
              "  [theme=dark] .colab-df-quickchart {\n",
              "      --bg-color: #3B4455;\n",
              "      --fill-color: #D2E3FC;\n",
              "      --hover-bg-color: #434B5C;\n",
              "      --hover-fill-color: #FFFFFF;\n",
              "      --disabled-bg-color: #3B4455;\n",
              "      --disabled-fill-color: #666;\n",
              "  }\n",
              "\n",
              "  .colab-df-quickchart {\n",
              "    background-color: var(--bg-color);\n",
              "    border: none;\n",
              "    border-radius: 50%;\n",
              "    cursor: pointer;\n",
              "    display: none;\n",
              "    fill: var(--fill-color);\n",
              "    height: 32px;\n",
              "    padding: 0;\n",
              "    width: 32px;\n",
              "  }\n",
              "\n",
              "  .colab-df-quickchart:hover {\n",
              "    background-color: var(--hover-bg-color);\n",
              "    box-shadow: 0 1px 2px rgba(60, 64, 67, 0.3), 0 1px 3px 1px rgba(60, 64, 67, 0.15);\n",
              "    fill: var(--button-hover-fill-color);\n",
              "  }\n",
              "\n",
              "  .colab-df-quickchart-complete:disabled,\n",
              "  .colab-df-quickchart-complete:disabled:hover {\n",
              "    background-color: var(--disabled-bg-color);\n",
              "    fill: var(--disabled-fill-color);\n",
              "    box-shadow: none;\n",
              "  }\n",
              "\n",
              "  .colab-df-spinner {\n",
              "    border: 2px solid var(--fill-color);\n",
              "    border-color: transparent;\n",
              "    border-bottom-color: var(--fill-color);\n",
              "    animation:\n",
              "      spin 1s steps(1) infinite;\n",
              "  }\n",
              "\n",
              "  @keyframes spin {\n",
              "    0% {\n",
              "      border-color: transparent;\n",
              "      border-bottom-color: var(--fill-color);\n",
              "      border-left-color: var(--fill-color);\n",
              "    }\n",
              "    20% {\n",
              "      border-color: transparent;\n",
              "      border-left-color: var(--fill-color);\n",
              "      border-top-color: var(--fill-color);\n",
              "    }\n",
              "    30% {\n",
              "      border-color: transparent;\n",
              "      border-left-color: var(--fill-color);\n",
              "      border-top-color: var(--fill-color);\n",
              "      border-right-color: var(--fill-color);\n",
              "    }\n",
              "    40% {\n",
              "      border-color: transparent;\n",
              "      border-right-color: var(--fill-color);\n",
              "      border-top-color: var(--fill-color);\n",
              "    }\n",
              "    60% {\n",
              "      border-color: transparent;\n",
              "      border-right-color: var(--fill-color);\n",
              "    }\n",
              "    80% {\n",
              "      border-color: transparent;\n",
              "      border-right-color: var(--fill-color);\n",
              "      border-bottom-color: var(--fill-color);\n",
              "    }\n",
              "    90% {\n",
              "      border-color: transparent;\n",
              "      border-bottom-color: var(--fill-color);\n",
              "    }\n",
              "  }\n",
              "</style>\n",
              "\n",
              "  <script>\n",
              "    async function quickchart(key) {\n",
              "      const quickchartButtonEl =\n",
              "        document.querySelector('#' + key + ' button');\n",
              "      quickchartButtonEl.disabled = true;  // To prevent multiple clicks.\n",
              "      quickchartButtonEl.classList.add('colab-df-spinner');\n",
              "      try {\n",
              "        const charts = await google.colab.kernel.invokeFunction(\n",
              "            'suggestCharts', [key], {});\n",
              "      } catch (error) {\n",
              "        console.error('Error during call to suggestCharts:', error);\n",
              "      }\n",
              "      quickchartButtonEl.classList.remove('colab-df-spinner');\n",
              "      quickchartButtonEl.classList.add('colab-df-quickchart-complete');\n",
              "    }\n",
              "    (() => {\n",
              "      let quickchartButtonEl =\n",
              "        document.querySelector('#df-916bab9e-df02-4821-b609-658b62de43a5 button');\n",
              "      quickchartButtonEl.style.display =\n",
              "        google.colab.kernel.accessAllowed ? 'block' : 'none';\n",
              "    })();\n",
              "  </script>\n",
              "</div>\n",
              "    </div>\n",
              "  </div>\n"
            ],
            "application/vnd.google.colaboratory.intrinsic+json": {
              "type": "dataframe",
              "variable_name": "df"
            }
          },
          "metadata": {},
          "execution_count": 6
        }
      ]
    },
    {
      "cell_type": "code",
      "source": [
        "# Se cambia la orientación del df de un formato ancho a uno largo\n",
        "df_des = pd.melt(df, id_vars=['V1'], var_name='Variable', value_name='obs_value')\n",
        "df_des = df_des.rename(columns={'V1': 'row', 'Variable': 'col'}).sort_values(by=['row', 'col']).reset_index(drop=True)\n",
        "df_des['obs_value'] = df_des['obs_value'].round(2)"
      ],
      "metadata": {
        "id": "4PvY23Bp8e5z"
      },
      "execution_count": null,
      "outputs": []
    },
    {
      "cell_type": "code",
      "source": [
        "# Se definen las variables de demanda final\n",
        "valores = ['HFCE', 'NPISH', 'GGFC', 'GFCF', 'INVNT', 'DPABR']\n",
        "\n",
        "# Expresión regular que coincide con cualquiera de los caracteres exactos especificados\n",
        "patron = '|'.join(valores)"
      ],
      "metadata": {
        "id": "vQkS0SDC9xK4"
      },
      "execution_count": null,
      "outputs": []
    },
    {
      "cell_type": "code",
      "source": [
        "# Se crean los siguientes df: (zy=Consumos intermedios + demanda final) / (tls=Taxes) / (va=Value added) / (x=Output)\n",
        "df_zy = df_des[((df_des['row'].str.contains('ESP', case=False)) | (df_des['row'].str.contains('FRA', case=False))) & ((df_des['col'].str.contains('ESP', case=False)) | (df_des['col'].str.contains('FRA', case=False)))].reset_index(drop=True)\n",
        "df_tls = df_des[(df_des['row'] == 'TLS') & ((df_des['col'].str.contains('ESP', case=False)) | (df_des['col'].str.contains('FRA', case=False)))].reset_index(drop=True)\n",
        "df_va = df_des[(df_des['row'] == 'VA') & ((df_des['col'].str.contains('ESP', case=False)) | (df_des['col'].str.contains('FRA', case=False)))].reset_index(drop=True)\n",
        "df_x = df_des[(df_des['row'] == 'OUT') & ((df_des['col'].str.contains('ESP', case=False)) | (df_des['col'].str.contains('FRA', case=False)))].reset_index(drop=True)"
      ],
      "metadata": {
        "id": "nfFhCcJCC2IL"
      },
      "execution_count": null,
      "outputs": []
    },
    {
      "cell_type": "code",
      "source": [
        "# Se crea el df por separado de consumos intermedios y demanda final\n",
        "df_z = df_zy[~df_zy['col'].str.contains(patron, regex=True)].reset_index(drop=True)\n",
        "df_y = df_zy[df_zy['col'].str.contains(patron, regex=True)].reset_index(drop=True)"
      ],
      "metadata": {
        "id": "Bg_peUuV6Gu5"
      },
      "execution_count": null,
      "outputs": []
    },
    {
      "cell_type": "code",
      "source": [
        "# Se crea el df por separado de (T-S s/productos)\n",
        "df_tls_ic = df_tls[~df_tls['col'].str.contains(patron, regex=True)].reset_index(drop=True)\n",
        "df_tls_fd = df_tls[df_tls['col'].str.contains(patron, regex=True)].reset_index(drop=True)"
      ],
      "metadata": {
        "id": "dl60DvEaEKFP"
      },
      "execution_count": null,
      "outputs": []
    },
    {
      "cell_type": "code",
      "source": [
        "# Se crea el df por separado del valor añadido\n",
        "df_va = df_va[~df_va['col'].str.contains(patron, regex=True)].reset_index(drop=True)"
      ],
      "metadata": {
        "id": "siin6VQAQQgu"
      },
      "execution_count": null,
      "outputs": []
    },
    {
      "cell_type": "code",
      "source": [
        "# Se crea el df por separado de la oferta\n",
        "df_x = df_x[~df_x['col'].str.contains(patron, regex=True)].reset_index(drop=True)"
      ],
      "metadata": {
        "id": "J-rFnRR2QaS3"
      },
      "execution_count": null,
      "outputs": []
    },
    {
      "cell_type": "code",
      "source": [
        "# Se divide las cadenas de texto que se encuentran en las columnas 'row' y 'col' en dos partes\n",
        "df_z[['refArea', 'rowIi']] = df_z['row'].str.split('_', n=1, expand=True)\n",
        "df_z[['counterpartArea', 'colIi']] = df_z['col'].str.split('_', n=1, expand=True)\n",
        "\n",
        "df_y[['refArea', 'rowIi']] = df_y['row'].str.split('_', n=1, expand=True)\n",
        "df_y[['counterpartArea', 'colIi']] = df_y['col'].str.split('_', n=1, expand=True)\n",
        "\n",
        "df_tls_ic[['counterpartArea', 'colIi']] = df_tls_ic['col'].str.split('_', n=1, expand=True)\n",
        "df_tls_fd[['counterpartArea', 'colIi']] = df_tls_fd['col'].str.split('_', n=1, expand=True)\n",
        "\n",
        "df_va[['counterpartArea', 'colIi']] = df_va['col'].str.split('_', n=1, expand=True)\n",
        "\n",
        "df_x[['counterpartArea', 'colIi']] = df_x['col'].str.split('_', n=1, expand=True)"
      ],
      "metadata": {
        "id": "ZAPiSjgDU1Ru"
      },
      "execution_count": null,
      "outputs": []
    },
    {
      "cell_type": "code",
      "source": [
        "# Se crea la columna agregar\n",
        "df_z['agrega'] = df_z['refArea'].map(mapgeo) + '_' + df_z['rowIi'].map(mapnace) + '*' + df_z['counterpartArea'].map(mapgeo) + '_' + df_z['colIi'].map(mapnace)\n",
        "df_z_colapsado=pd.DataFrame(df_z.groupby(['agrega'])['obs_value'].sum()).reset_index()\n",
        "\n",
        "df_y['agrega'] = df_y['refArea'].map(mapgeo) + '_' + df_y['rowIi'].map(mapnace) + '*' + df_y['counterpartArea'].map(mapgeo) + '_' + df_y['colIi'].map(mapnace)\n",
        "df_y_colapsado=pd.DataFrame(df_y.groupby(['agrega'])['obs_value'].sum()).reset_index()\n",
        "\n",
        "df_tls_ic['agrega'] = df_tls_ic['row'] + '*' + df_tls_ic['counterpartArea'].map(mapgeo) + '_' + df_tls_ic['colIi'].map(mapnace)\n",
        "df_tls_ic_colapsado=pd.DataFrame(df_tls_ic.groupby(['agrega'])['obs_value'].sum()).reset_index()\n",
        "\n",
        "df_tls_fd['agrega'] = df_tls_fd['row'] + '*' + df_tls_fd['counterpartArea'].map(mapgeo) + '_' + df_tls_fd['colIi'].map(mapnace)\n",
        "df_tls_fd_colapsado=pd.DataFrame(df_tls_fd.groupby(['agrega'])['obs_value'].sum()).reset_index()\n",
        "\n",
        "df_va['agrega'] = df_va['row'] + '*' + df_va['counterpartArea'].map(mapgeo) + '_' + df_va['colIi'].map(mapnace)\n",
        "df_va_colapsado=pd.DataFrame(df_va.groupby(['agrega'])['obs_value'].sum()).reset_index()\n",
        "\n",
        "df_x['agrega'] = df_x['row'] + '*' + df_x['counterpartArea'].map(mapgeo) + '_' + df_x['colIi'].map(mapnace)\n",
        "df_x_colapsado=pd.DataFrame(df_x.groupby(['agrega'])['obs_value'].sum()).reset_index()"
      ],
      "metadata": {
        "id": "dIBtmX3RRJTq"
      },
      "execution_count": null,
      "outputs": []
    },
    {
      "cell_type": "code",
      "source": [
        "df_z_colapsado['origen']=df_z_colapsado['agrega'].str.split('*').str[0]\n",
        "df_z_colapsado['destino']=df_z_colapsado['agrega'].str.split('*').str[1]\n",
        "\n",
        "df_y_colapsado['origen']=df_y_colapsado['agrega'].str.split('*').str[0]\n",
        "df_y_colapsado['destino']=df_y_colapsado['agrega'].str.split('*').str[1]\n",
        "\n",
        "df_tls_ic_colapsado['origen']=df_tls_ic_colapsado['agrega'].str.split('*').str[0]\n",
        "df_tls_ic_colapsado['destino']=df_tls_ic_colapsado['agrega'].str.split('*').str[1]\n",
        "\n",
        "df_tls_fd_colapsado['origen']=df_tls_fd_colapsado['agrega'].str.split('*').str[0]\n",
        "df_tls_fd_colapsado['destino']=df_tls_fd_colapsado['agrega'].str.split('*').str[1]\n",
        "\n",
        "df_va_colapsado['origen']=df_va_colapsado['agrega'].str.split('*').str[0]\n",
        "df_va_colapsado['destino']=df_va_colapsado['agrega'].str.split('*').str[1]\n",
        "\n",
        "df_x_colapsado['origen']=df_x_colapsado['agrega'].str.split('*').str[0]\n",
        "df_x_colapsado['destino']=df_x_colapsado['agrega'].str.split('*').str[1]"
      ],
      "metadata": {
        "id": "Uj6_Wa-3UGNa"
      },
      "execution_count": null,
      "outputs": []
    },
    {
      "cell_type": "code",
      "source": [
        "df_z_tabla = df_z_colapsado.pivot_table(index=\"origen\", columns=\"destino\", values=\"obs_value\")\n",
        "\n",
        "df_y_tabla = df_y_colapsado.pivot_table(index=\"origen\", columns=\"destino\", values=\"obs_value\")\n",
        "\n",
        "df_tls_ic_tabla = df_tls_ic_colapsado.pivot_table(index=\"origen\", columns=\"destino\", values=\"obs_value\")\n",
        "\n",
        "df_tls_fd_tabla = df_tls_fd_colapsado.pivot_table(index=\"origen\", columns=\"destino\", values=\"obs_value\")\n",
        "\n",
        "df_va_tabla = df_va_colapsado.pivot_table(index=\"origen\", columns=\"destino\", values=\"obs_value\")\n",
        "\n",
        "df_x_tabla = df_x_colapsado.pivot_table(index=\"origen\", columns=\"destino\", values=\"obs_value\")"
      ],
      "metadata": {
        "id": "f7QeCICOUN9i"
      },
      "execution_count": null,
      "outputs": []
    },
    {
      "cell_type": "code",
      "source": [
        "matriz_z = df_z_tabla.values\n",
        "matriz_y = df_y_tabla.values\n",
        "matriz_tls_ic = df_tls_ic_tabla.values\n",
        "matriz_tls_fd = df_tls_fd_tabla.values\n",
        "matriz_va = df_va_tabla.values\n",
        "matriz_x = df_x_tabla.values"
      ],
      "metadata": {
        "id": "2-05KlS9Sfcf"
      },
      "execution_count": null,
      "outputs": []
    },
    {
      "cell_type": "code",
      "source": [
        "# Value added to output ratio (VA/X)\n",
        "ratio = matriz_va / matriz_x\n",
        "\n",
        "df_ratio = pd.DataFrame(ratio, columns=df_va_tabla.columns, index=df_va_tabla.index)\n",
        "nuevo_indice = ['VA/X']\n",
        "df_ratio.index = pd.Index(nuevo_indice, name='origen')"
      ],
      "metadata": {
        "id": "ay0EqUR6Hjlw"
      },
      "execution_count": null,
      "outputs": []
    },
    {
      "cell_type": "code",
      "source": [
        "# Input coefficients (Z/X)\n",
        "input_coeff = matriz_z / matriz_x\n",
        "\n",
        "df_input_coeff = pd.DataFrame(input_coeff, columns=df_z_tabla.columns, index=df_z_tabla.index)"
      ],
      "metadata": {
        "id": "ScQSf_JkPycf"
      },
      "execution_count": null,
      "outputs": []
    },
    {
      "cell_type": "code",
      "source": [
        "# Matriz identidad\n",
        "matriz_identidad = np.eye(40)\n",
        "df_matriz_identidad = pd.DataFrame(matriz_identidad, columns=df_z_tabla.columns, index=df_z_tabla.index)\n",
        "\n",
        "# Diferencia entre matriz identidad y matriz de coeficientes técnicos\n",
        "diferencia = matriz_identidad - input_coeff\n",
        "df_diferencia = pd.DataFrame(diferencia, columns=df_z_tabla.columns, index=df_z_tabla.index)\n",
        "\n",
        "# Matriz inversa de Leontief\n",
        "inversa = np.linalg.inv(diferencia)\n",
        "df_inversa = pd.DataFrame(inversa, columns=df_z_tabla.columns, index=df_z_tabla.index)"
      ],
      "metadata": {
        "id": "mUcyYBJeUaif"
      },
      "execution_count": null,
      "outputs": []
    },
    {
      "cell_type": "code",
      "source": [
        "# Gross intermediate trade flows (GRTR_INT)\n",
        "\n",
        "# Se divide las cadenas de texto que se encuentran en las columnas 'origen' y 'destino' en dos partes\n",
        "df_z_colapsado[['origen2','x1']] = df_z_colapsado['origen'].str.split('_', n=1, expand=True)\n",
        "df_z_colapsado[['destino2','x2']] = df_z_colapsado['destino'].str.split('_', n=1, expand=True)\n",
        "df_z_colapsado = df_z_colapsado.drop(['x1', 'x2'], axis=1)\n",
        "\n",
        "df_z_grtr = df_z_colapsado.copy()\n",
        "df_z_grtr['obs_value2'] = np.where(df_z_grtr['origen2'] == df_z_grtr['destino2'], 0, df_z_grtr['obs_value'])\n",
        "df_z_grtr['agrega2'] = df_z_grtr['origen'] + '*' + df_z_grtr['destino2']\n",
        "\n",
        "df_z_grtr2=pd.DataFrame(df_z_grtr.groupby(['agrega2'])['obs_value2'].sum()).reset_index()\n",
        "df_z_grtr2[['origen2','destino2']] = df_z_grtr2['agrega2'].str.split('*', n=1, expand=True)\n"
      ],
      "metadata": {
        "id": "PVOz7m49dWm1"
      },
      "execution_count": null,
      "outputs": []
    },
    {
      "cell_type": "code",
      "source": [
        "df_z_grtr_table = df_z_grtr2.pivot_table(index=\"origen2\", columns=\"destino2\", values=\"obs_value2\")"
      ],
      "metadata": {
        "id": "WXQvENW9NbTJ"
      },
      "execution_count": null,
      "outputs": []
    },
    {
      "cell_type": "code",
      "source": [
        "# Gross final trade flows (GRTR_FNL)\n",
        "\n",
        "# Se divide las cadenas de texto que se encuentran en las columnas 'origen' y 'destino' en dos partes\n",
        "df_y_colapsado[['origen2','x1']] = df_y_colapsado['origen'].str.split('_', n=1, expand=True)\n",
        "df_y_colapsado[['destino2','x2']] = df_y_colapsado['destino'].str.split('_', n=1, expand=True)\n",
        "df_y_colapsado = df_y_colapsado.drop(['x1', 'x2'], axis=1)\n",
        "\n",
        "df_y_grtr = df_y_colapsado.copy()\n",
        "df_y_grtr['obs_value2'] = np.where(df_y_grtr['origen2'] == df_y_grtr['destino2'], 0, df_y_grtr['obs_value'])\n",
        "df_y_grtr['agrega2'] = df_y_grtr['origen'] + '*' + df_y_grtr['destino2']\n",
        "\n",
        "df_y_grtr2=pd.DataFrame(df_y_grtr.groupby(['agrega2'])['obs_value2'].sum()).reset_index()\n",
        "df_y_grtr2[['origen2','destino2']] = df_y_grtr2['agrega2'].str.split('*', n=1, expand=True)"
      ],
      "metadata": {
        "id": "b4AMgjK7iRVt"
      },
      "execution_count": null,
      "outputs": []
    },
    {
      "cell_type": "code",
      "source": [
        "df_y_grtr_table = df_y_grtr2.pivot_table(index=\"origen2\", columns=\"destino2\", values=\"obs_value2\")"
      ],
      "metadata": {
        "id": "Es2aqerydZFt"
      },
      "execution_count": null,
      "outputs": []
    },
    {
      "cell_type": "code",
      "source": [
        "ruta_excel = '/content/drive/MyDrive/TiVA/Indicadores TiVA ESP-FRA.xlsx'\n",
        "\n",
        "with pd.ExcelWriter(ruta_excel, engine='openpyxl') as writer:\n",
        "    # Guardar cada DataFrame en una hoja diferente\n",
        "    df_z_tabla.to_excel(writer, sheet_name='Matriz CI', index=True)\n",
        "    df_y_tabla.to_excel(writer, sheet_name='Matriz DF', index=True)\n",
        "    df_tls_ic_tabla.to_excel(writer, sheet_name='Impuestos CI', index=True)\n",
        "    df_tls_fd_tabla.to_excel(writer, sheet_name='Impuestos DF', index=True)\n",
        "    df_va_tabla.to_excel(writer, sheet_name='VA', index=True)\n",
        "    df_x_tabla.to_excel(writer, sheet_name='Producción', index=True)\n",
        "    df_ratio.to_excel(writer, sheet_name='Ratio VA to X', index=True)\n",
        "    df_z_grtr_table.to_excel(writer, sheet_name='GITF', index=True)\n",
        "    df_y_grtr_table.to_excel(writer, sheet_name='GFTF', index=True)\n",
        "    df_input_coeff.to_excel(writer, sheet_name='Input coefficient', index=True)\n",
        "    df_matriz_identidad.to_excel(writer, sheet_name='Identity matrix', index=True)\n",
        "    df_diferencia.to_excel(writer, sheet_name='I-A', index=True)\n",
        "    df_inversa.to_excel(writer, sheet_name='Leontief inverse', index=True)"
      ],
      "metadata": {
        "id": "EbEuJcUhfuHx"
      },
      "execution_count": null,
      "outputs": []
    },
    {
      "cell_type": "markdown",
      "source": [
        "### **STRUCTURAL INDICATORS - BASED ON THE VALUES IN ICIO TABLES**"
      ],
      "metadata": {
        "id": "J--SUSNTlhTU"
      }
    },
    {
      "cell_type": "code",
      "source": [
        "# 4.1 Production (Gross output)\n",
        "\n",
        "production = round(df_x.loc[df_x['counterpartArea'] == 'ESP', 'obs_value'].sum(), 1)\n",
        "print(\"La producción de ESP es:\", production)"
      ],
      "metadata": {
        "colab": {
          "base_uri": "https://localhost:8080/"
        },
        "id": "rAkKiMmHivGl",
        "outputId": "7f59f969-eaca-44ee-fe89-589c3e8e0a44"
      },
      "execution_count": null,
      "outputs": [
        {
          "output_type": "stream",
          "name": "stdout",
          "text": [
            "La producción de ESP es: 2320651.2\n"
          ]
        }
      ]
    },
    {
      "cell_type": "code",
      "source": [
        "# 4.2 Value added\n",
        "\n",
        "value_added = round(df_va.loc[df_va['counterpartArea'] == 'ESP', 'obs_value'].sum(), 1)\n",
        "print(\"El valor añadido de ESP es:\", value_added)"
      ],
      "metadata": {
        "colab": {
          "base_uri": "https://localhost:8080/"
        },
        "id": "ZkT-CWGwjioe",
        "outputId": "2cd8d759-ece3-4666-d839-92f16efe090b"
      },
      "execution_count": null,
      "outputs": [
        {
          "output_type": "stream",
          "name": "stdout",
          "text": [
            "El valor añadido de ESP es: 1169754.4\n"
          ]
        }
      ]
    },
    {
      "cell_type": "code",
      "source": [
        "# 4.3 Value added as a % of production\n",
        "\n",
        "df_ratio"
      ],
      "metadata": {
        "id": "8KKfT9a04rxK",
        "colab": {
          "base_uri": "https://localhost:8080/",
          "height": 141
        },
        "outputId": "0bf2ace6-8381-450e-d25b-0b3008a77adf"
      },
      "execution_count": null,
      "outputs": [
        {
          "output_type": "execute_result",
          "data": {
            "text/plain": [
              "destino     ESP_A    ESP_B     ESP_C     ESP_D     ESP_E     ESP_F    ESP_G  \\\n",
              "origen                                                                        \n",
              "VA/X     0.526056  0.40062  0.265738  0.410396  0.401466  0.411112  0.55172   \n",
              "\n",
              "destino     ESP_H     ESP_I     ESP_J  ...     FRA_K     FRA_L     FRA_M  \\\n",
              "origen                                 ...                                 \n",
              "VA/X     0.382612  0.533517  0.442724  ...  0.341608  0.808815  0.466627   \n",
              "\n",
              "destino     FRA_N    FRA_O    FRA_P     FRA_Q     FRA_R     FRA_S  FRA_T  \n",
              "origen                                                                    \n",
              "VA/X     0.575436  0.72111  0.82265  0.724136  0.588457  0.608621    1.0  \n",
              "\n",
              "[1 rows x 40 columns]"
            ],
            "text/html": [
              "\n",
              "  <div id=\"df-aac27e1a-5361-4a14-8f2d-f22bd42cbb31\" class=\"colab-df-container\">\n",
              "    <div>\n",
              "<style scoped>\n",
              "    .dataframe tbody tr th:only-of-type {\n",
              "        vertical-align: middle;\n",
              "    }\n",
              "\n",
              "    .dataframe tbody tr th {\n",
              "        vertical-align: top;\n",
              "    }\n",
              "\n",
              "    .dataframe thead th {\n",
              "        text-align: right;\n",
              "    }\n",
              "</style>\n",
              "<table border=\"1\" class=\"dataframe\">\n",
              "  <thead>\n",
              "    <tr style=\"text-align: right;\">\n",
              "      <th>destino</th>\n",
              "      <th>ESP_A</th>\n",
              "      <th>ESP_B</th>\n",
              "      <th>ESP_C</th>\n",
              "      <th>ESP_D</th>\n",
              "      <th>ESP_E</th>\n",
              "      <th>ESP_F</th>\n",
              "      <th>ESP_G</th>\n",
              "      <th>ESP_H</th>\n",
              "      <th>ESP_I</th>\n",
              "      <th>ESP_J</th>\n",
              "      <th>...</th>\n",
              "      <th>FRA_K</th>\n",
              "      <th>FRA_L</th>\n",
              "      <th>FRA_M</th>\n",
              "      <th>FRA_N</th>\n",
              "      <th>FRA_O</th>\n",
              "      <th>FRA_P</th>\n",
              "      <th>FRA_Q</th>\n",
              "      <th>FRA_R</th>\n",
              "      <th>FRA_S</th>\n",
              "      <th>FRA_T</th>\n",
              "    </tr>\n",
              "    <tr>\n",
              "      <th>origen</th>\n",
              "      <th></th>\n",
              "      <th></th>\n",
              "      <th></th>\n",
              "      <th></th>\n",
              "      <th></th>\n",
              "      <th></th>\n",
              "      <th></th>\n",
              "      <th></th>\n",
              "      <th></th>\n",
              "      <th></th>\n",
              "      <th></th>\n",
              "      <th></th>\n",
              "      <th></th>\n",
              "      <th></th>\n",
              "      <th></th>\n",
              "      <th></th>\n",
              "      <th></th>\n",
              "      <th></th>\n",
              "      <th></th>\n",
              "      <th></th>\n",
              "      <th></th>\n",
              "    </tr>\n",
              "  </thead>\n",
              "  <tbody>\n",
              "    <tr>\n",
              "      <th>VA/X</th>\n",
              "      <td>0.526056</td>\n",
              "      <td>0.40062</td>\n",
              "      <td>0.265738</td>\n",
              "      <td>0.410396</td>\n",
              "      <td>0.401466</td>\n",
              "      <td>0.411112</td>\n",
              "      <td>0.55172</td>\n",
              "      <td>0.382612</td>\n",
              "      <td>0.533517</td>\n",
              "      <td>0.442724</td>\n",
              "      <td>...</td>\n",
              "      <td>0.341608</td>\n",
              "      <td>0.808815</td>\n",
              "      <td>0.466627</td>\n",
              "      <td>0.575436</td>\n",
              "      <td>0.72111</td>\n",
              "      <td>0.82265</td>\n",
              "      <td>0.724136</td>\n",
              "      <td>0.588457</td>\n",
              "      <td>0.608621</td>\n",
              "      <td>1.0</td>\n",
              "    </tr>\n",
              "  </tbody>\n",
              "</table>\n",
              "<p>1 rows × 40 columns</p>\n",
              "</div>\n",
              "    <div class=\"colab-df-buttons\">\n",
              "\n",
              "  <div class=\"colab-df-container\">\n",
              "    <button class=\"colab-df-convert\" onclick=\"convertToInteractive('df-aac27e1a-5361-4a14-8f2d-f22bd42cbb31')\"\n",
              "            title=\"Convert this dataframe to an interactive table.\"\n",
              "            style=\"display:none;\">\n",
              "\n",
              "  <svg xmlns=\"http://www.w3.org/2000/svg\" height=\"24px\" viewBox=\"0 -960 960 960\">\n",
              "    <path d=\"M120-120v-720h720v720H120Zm60-500h600v-160H180v160Zm220 220h160v-160H400v160Zm0 220h160v-160H400v160ZM180-400h160v-160H180v160Zm440 0h160v-160H620v160ZM180-180h160v-160H180v160Zm440 0h160v-160H620v160Z\"/>\n",
              "  </svg>\n",
              "    </button>\n",
              "\n",
              "  <style>\n",
              "    .colab-df-container {\n",
              "      display:flex;\n",
              "      gap: 12px;\n",
              "    }\n",
              "\n",
              "    .colab-df-convert {\n",
              "      background-color: #E8F0FE;\n",
              "      border: none;\n",
              "      border-radius: 50%;\n",
              "      cursor: pointer;\n",
              "      display: none;\n",
              "      fill: #1967D2;\n",
              "      height: 32px;\n",
              "      padding: 0 0 0 0;\n",
              "      width: 32px;\n",
              "    }\n",
              "\n",
              "    .colab-df-convert:hover {\n",
              "      background-color: #E2EBFA;\n",
              "      box-shadow: 0px 1px 2px rgba(60, 64, 67, 0.3), 0px 1px 3px 1px rgba(60, 64, 67, 0.15);\n",
              "      fill: #174EA6;\n",
              "    }\n",
              "\n",
              "    .colab-df-buttons div {\n",
              "      margin-bottom: 4px;\n",
              "    }\n",
              "\n",
              "    [theme=dark] .colab-df-convert {\n",
              "      background-color: #3B4455;\n",
              "      fill: #D2E3FC;\n",
              "    }\n",
              "\n",
              "    [theme=dark] .colab-df-convert:hover {\n",
              "      background-color: #434B5C;\n",
              "      box-shadow: 0px 1px 3px 1px rgba(0, 0, 0, 0.15);\n",
              "      filter: drop-shadow(0px 1px 2px rgba(0, 0, 0, 0.3));\n",
              "      fill: #FFFFFF;\n",
              "    }\n",
              "  </style>\n",
              "\n",
              "    <script>\n",
              "      const buttonEl =\n",
              "        document.querySelector('#df-aac27e1a-5361-4a14-8f2d-f22bd42cbb31 button.colab-df-convert');\n",
              "      buttonEl.style.display =\n",
              "        google.colab.kernel.accessAllowed ? 'block' : 'none';\n",
              "\n",
              "      async function convertToInteractive(key) {\n",
              "        const element = document.querySelector('#df-aac27e1a-5361-4a14-8f2d-f22bd42cbb31');\n",
              "        const dataTable =\n",
              "          await google.colab.kernel.invokeFunction('convertToInteractive',\n",
              "                                                    [key], {});\n",
              "        if (!dataTable) return;\n",
              "\n",
              "        const docLinkHtml = 'Like what you see? Visit the ' +\n",
              "          '<a target=\"_blank\" href=https://colab.research.google.com/notebooks/data_table.ipynb>data table notebook</a>'\n",
              "          + ' to learn more about interactive tables.';\n",
              "        element.innerHTML = '';\n",
              "        dataTable['output_type'] = 'display_data';\n",
              "        await google.colab.output.renderOutput(dataTable, element);\n",
              "        const docLink = document.createElement('div');\n",
              "        docLink.innerHTML = docLinkHtml;\n",
              "        element.appendChild(docLink);\n",
              "      }\n",
              "    </script>\n",
              "  </div>\n",
              "\n",
              "    </div>\n",
              "  </div>\n"
            ],
            "application/vnd.google.colaboratory.intrinsic+json": {
              "type": "dataframe",
              "variable_name": "df_ratio"
            }
          },
          "metadata": {},
          "execution_count": 29
        }
      ]
    },
    {
      "cell_type": "code",
      "source": [
        "# 4.4 Gross exports\n",
        "\n",
        "# Intermediate products\n",
        "int_exports = round(df_z_grtr.loc[(df_z_grtr['origen2'] == 'ESP') & (df_z_grtr['destino2'] == 'FRA'), 'obs_value2'].sum(), 1)\n",
        "print(\"Las exportaciones de productos intermedios para ESP son:\", int_exports)\n",
        "\n",
        "# Final products\n",
        "final_exports = round(df_y_grtr.loc[(df_y_grtr['origen2'] == 'ESP') & (df_y_grtr['destino2'] == 'FRA'), 'obs_value2'].sum(), 1)\n",
        "print(\"Las exportaciones de productos terminados para ESP son:\", final_exports)\n",
        "\n",
        "# Total gross exports\n",
        "total_exports = round(int_exports + final_exports, 1)\n",
        "print(\"Las exportaciones totales para ESP son:\", total_exports)"
      ],
      "metadata": {
        "colab": {
          "base_uri": "https://localhost:8080/"
        },
        "id": "bfHeWIVH455M",
        "outputId": "f591cb1d-95ce-48a9-dfb6-3aac6ed56e3f"
      },
      "execution_count": null,
      "outputs": [
        {
          "output_type": "stream",
          "name": "stdout",
          "text": [
            "Las exportaciones de productos intermedios para ESP son: 27700.2\n",
            "Las exportaciones de productos terminados para ESP son: 24362.2\n",
            "Las exportaciones totales para ESP son: 52062.4\n"
          ]
        }
      ]
    },
    {
      "cell_type": "code",
      "source": [
        "# 4.5 Gross imports\n",
        "\n",
        "# Intermediate products\n",
        "int_imports = round(df_z_grtr.loc[(df_z_grtr['origen2'] == 'FRA') & (df_z_grtr['destino2'] == 'ESP'), 'obs_value2'].sum(), 1)\n",
        "print(\"Las importaciones de productos intermedios para ESP son:\", int_imports)\n",
        "\n",
        "# Final products\n",
        "final_imports = round(df_y_grtr.loc[(df_y_grtr['origen2'] == 'FRA') & (df_y_grtr['destino2'] == 'ESP'), 'obs_value2'].sum(), 1)\n",
        "print(\"Las importaciones de productos terminados para ESP son:\", final_imports)\n",
        "\n",
        "# Total gross imports\n",
        "total_imports = round(int_imports + final_imports, 1)\n",
        "print(\"Las importaciones totales para ESP son:\", total_imports)"
      ],
      "metadata": {
        "colab": {
          "base_uri": "https://localhost:8080/"
        },
        "id": "97mguwR_v2NC",
        "outputId": "0a66be80-d275-4614-a09c-734821efe509"
      },
      "execution_count": null,
      "outputs": [
        {
          "output_type": "stream",
          "name": "stdout",
          "text": [
            "Las importaciones de productos intermedios para ESP son: 21092.3\n",
            "Las importaciones de productos terminados para ESP son: 13501.2\n",
            "Las importaciones totales para ESP son: 34593.5\n"
          ]
        }
      ]
    },
    {
      "cell_type": "code",
      "source": [
        "# 4.6 Gross trade balance\n",
        "\n",
        "# Difference between Gross Exports and Gross Imports\n",
        "gross_trade_balance = round(total_exports - total_imports, 1)\n",
        "print(\"El balance de exportaciones/importaciones de ESP son:\", gross_trade_balance)"
      ],
      "metadata": {
        "colab": {
          "base_uri": "https://localhost:8080/"
        },
        "id": "zG597mmrzTtp",
        "outputId": "518d3d47-e84a-4200-c5c8-546ead3f7099"
      },
      "execution_count": null,
      "outputs": [
        {
          "output_type": "stream",
          "name": "stdout",
          "text": [
            "El balance de exportaciones/importaciones de ESP son: 17468.9\n"
          ]
        }
      ]
    },
    {
      "cell_type": "code",
      "source": [
        "# 4.7 Gross exports, partner shares (%)"
      ],
      "metadata": {
        "id": "4eho_WvH2mGr"
      },
      "execution_count": null,
      "outputs": []
    },
    {
      "cell_type": "code",
      "source": [
        "# 4.8 Gross imports, partner shares (%)"
      ],
      "metadata": {
        "id": "fByud-K029wK"
      },
      "execution_count": null,
      "outputs": []
    },
    {
      "cell_type": "code",
      "source": [
        "# 5.1 Domestic value added content of gross exports"
      ],
      "metadata": {
        "id": "2IqiHlRP3HLn"
      },
      "execution_count": null,
      "outputs": []
    }
  ]
}