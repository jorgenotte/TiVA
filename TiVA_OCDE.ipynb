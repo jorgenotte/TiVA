{
  "nbformat": 4,
  "nbformat_minor": 0,
  "metadata": {
    "colab": {
      "provenance": [],
      "include_colab_link": true
    },
    "kernelspec": {
      "name": "python3",
      "display_name": "Python 3"
    },
    "language_info": {
      "name": "python"
    }
  },
  "cells": [
    {
      "cell_type": "markdown",
      "metadata": {
        "id": "view-in-github",
        "colab_type": "text"
      },
      "source": [
        "<a href=\"https://colab.research.google.com/github/jorgenotte/TiVA/blob/main/TiVA_OCDE.ipynb\" target=\"_parent\"><img src=\"https://colab.research.google.com/assets/colab-badge.svg\" alt=\"Open In Colab\"/></a>"
      ]
    },
    {
      "cell_type": "code",
      "source": [
        "# Importar librerías necesarias\n",
        "\n",
        "import pandas as pd\n",
        "import numpy as np"
      ],
      "metadata": {
        "id": "nlPv69HmCiIo"
      },
      "execution_count": 42,
      "outputs": []
    },
    {
      "cell_type": "code",
      "source": [
        "from google.colab import drive\n",
        "drive.mount('/content/drive')"
      ],
      "metadata": {
        "colab": {
          "base_uri": "https://localhost:8080/"
        },
        "id": "oZDb3qPZ2hGJ",
        "outputId": "5ce8c60b-7fa9-44af-bf4b-c4af6df9bc4d"
      },
      "execution_count": null,
      "outputs": [
        {
          "output_type": "stream",
          "name": "stdout",
          "text": [
            "Mounted at /content/drive\n"
          ]
        }
      ]
    },
    {
      "cell_type": "code",
      "source": [
        "# Crear DataFrame con el mapeo de codigos nace y codigos geo\n",
        "mapgeo=pd.read_excel('/content/drive/MyDrive/TiVA/mapeo.xlsx','geo').set_index('cod')\n",
        "mapnace=pd.read_excel('/content/drive/MyDrive/TiVA/mapeo.xlsx','nace').set_index('cod')\n",
        "\n",
        "# Convertir los DataFrame en diccionarios\n",
        "mapgeo=dict(mapgeo.to_dict()['geo'])\n",
        "mapnace=dict(mapnace.to_dict()['nace'])"
      ],
      "metadata": {
        "id": "mzs3s-lWhN3Y"
      },
      "execution_count": null,
      "outputs": []
    },
    {
      "cell_type": "code",
      "source": [
        "# Leer el fichero TiVA en un dataframe [3648 rows × 4109 columns]\n",
        "ruta='/content/drive/MyDrive/TiVA/TiVA_2020.csv'\n",
        "df=pd.read_csv(ruta)"
      ],
      "metadata": {
        "id": "os_cNFLbuXNM"
      },
      "execution_count": null,
      "outputs": []
    },
    {
      "cell_type": "code",
      "source": [
        "# Se cambia la orientación del df de un formato ancho a uno largo\n",
        "df_des = pd.melt(df, id_vars=['V1'], var_name='Variable', value_name='obs_value')\n",
        "df_des = df_des.rename(columns={'V1': 'row', 'Variable': 'col'}).sort_values(by=['row', 'col']).reset_index(drop=True)\n",
        "df_des['obs_value'] = df_des['obs_value'].round(2)"
      ],
      "metadata": {
        "id": "4PvY23Bp8e5z"
      },
      "execution_count": null,
      "outputs": []
    },
    {
      "cell_type": "code",
      "source": [
        "# Se definen las variables de demanda final\n",
        "valores = ['HFCE', 'NPISH', 'GGFC', 'GFCF', 'INVNT', 'DPABR']\n",
        "\n",
        "# Expresión regular que coincide con cualquiera de los caracteres exactos especificados\n",
        "patron = '|'.join(valores)"
      ],
      "metadata": {
        "id": "vQkS0SDC9xK4"
      },
      "execution_count": null,
      "outputs": []
    },
    {
      "cell_type": "code",
      "source": [
        "# Se crean los siguientes df: (zy=Consumos intermedios + demanda final) / (tls=Taxes) / (va=Value added) / (x=Output)\n",
        "df_zy = df_des[((df_des['row'].str.contains('ESP', case=False)) | (df_des['row'].str.contains('FRA', case=False))) & ((df_des['col'].str.contains('ESP', case=False)) | (df_des['col'].str.contains('FRA', case=False)))].reset_index(drop=True)\n",
        "df_tls = df_des[(df_des['row'] == 'TLS') & ((df_des['col'].str.contains('ESP', case=False)) | (df_des['col'].str.contains('FRA', case=False)))].reset_index(drop=True)\n",
        "df_va = df_des[(df_des['row'] == 'VA') & ((df_des['col'].str.contains('ESP', case=False)) | (df_des['col'].str.contains('FRA', case=False)))].reset_index(drop=True)\n",
        "df_x = df_des[(df_des['row'] == 'OUT') & ((df_des['col'].str.contains('ESP', case=False)) | (df_des['col'].str.contains('FRA', case=False)))].reset_index(drop=True)"
      ],
      "metadata": {
        "id": "nfFhCcJCC2IL"
      },
      "execution_count": null,
      "outputs": []
    },
    {
      "cell_type": "code",
      "source": [
        "# Se crea el df por separado de consumos intermedios y demanda final\n",
        "df_z = df_zy[~df_zy['col'].str.contains(patron, regex=True)].reset_index(drop=True)\n",
        "df_y = df_zy[df_zy['col'].str.contains(patron, regex=True)].reset_index(drop=True)"
      ],
      "metadata": {
        "id": "Bg_peUuV6Gu5"
      },
      "execution_count": null,
      "outputs": []
    },
    {
      "cell_type": "code",
      "source": [
        "# Se crea el df por separado de (T-S s/productos)\n",
        "df_tls_ic = df_tls[~df_tls['col'].str.contains(patron, regex=True)].reset_index(drop=True)\n",
        "df_tls_fd = df_tls[df_tls['col'].str.contains(patron, regex=True)].reset_index(drop=True)"
      ],
      "metadata": {
        "id": "dl60DvEaEKFP"
      },
      "execution_count": null,
      "outputs": []
    },
    {
      "cell_type": "code",
      "source": [
        "# Se crea el df por separado del valor añadido\n",
        "df_va = df_va[~df_va['col'].str.contains(patron, regex=True)].reset_index(drop=True)"
      ],
      "metadata": {
        "id": "siin6VQAQQgu"
      },
      "execution_count": null,
      "outputs": []
    },
    {
      "cell_type": "code",
      "source": [
        "# Se crea el df por separado de la oferta\n",
        "df_x = df_x[~df_x['col'].str.contains(patron, regex=True)].reset_index(drop=True)"
      ],
      "metadata": {
        "id": "J-rFnRR2QaS3"
      },
      "execution_count": null,
      "outputs": []
    },
    {
      "cell_type": "code",
      "source": [
        "# Se divide las cadenas de texto que se encuentran en las columnas 'row' y 'col' en dos partes\n",
        "df_z[['refArea', 'rowIi']] = df_z['row'].str.split('_', n=1, expand=True)\n",
        "df_z[['counterpartArea', 'colIi']] = df_z['col'].str.split('_', n=1, expand=True)\n",
        "\n",
        "df_y[['refArea', 'rowIi']] = df_y['row'].str.split('_', n=1, expand=True)\n",
        "df_y[['counterpartArea', 'colIi']] = df_y['col'].str.split('_', n=1, expand=True)\n",
        "\n",
        "df_tls_ic[['counterpartArea', 'colIi']] = df_tls_ic['col'].str.split('_', n=1, expand=True)\n",
        "df_tls_fd[['counterpartArea', 'colIi']] = df_tls_fd['col'].str.split('_', n=1, expand=True)\n",
        "\n",
        "df_va[['counterpartArea', 'colIi']] = df_va['col'].str.split('_', n=1, expand=True)\n",
        "\n",
        "df_x[['counterpartArea', 'colIi']] = df_x['col'].str.split('_', n=1, expand=True)"
      ],
      "metadata": {
        "id": "ZAPiSjgDU1Ru"
      },
      "execution_count": null,
      "outputs": []
    },
    {
      "cell_type": "code",
      "source": [
        "# Se crea la columna agregar\n",
        "df_z['agrega'] = df_z['refArea'].map(mapgeo) + '_' + df_z['rowIi'].map(mapnace) + '*' + df_z['counterpartArea'].map(mapgeo) + '_' + df_z['colIi'].map(mapnace)\n",
        "df_z_colapsado=pd.DataFrame(df_z.groupby(['agrega'])['obs_value'].sum()).reset_index()\n",
        "\n",
        "df_y['agrega'] = df_y['refArea'].map(mapgeo) + '_' + df_y['rowIi'].map(mapnace) + '*' + df_y['counterpartArea'].map(mapgeo) + '_' + df_y['colIi'].map(mapnace)\n",
        "df_y_colapsado=pd.DataFrame(df_y.groupby(['agrega'])['obs_value'].sum()).reset_index()\n",
        "\n",
        "df_tls_ic['agrega'] = df_tls_ic['row'] + '*' + df_tls_ic['counterpartArea'].map(mapgeo) + '_' + df_tls_ic['colIi'].map(mapnace)\n",
        "df_tls_ic_colapsado=pd.DataFrame(df_tls_ic.groupby(['agrega'])['obs_value'].sum()).reset_index()\n",
        "\n",
        "df_tls_fd['agrega'] = df_tls_fd['row'] + '*' + df_tls_fd['counterpartArea'].map(mapgeo) + '_' + df_tls_fd['colIi'].map(mapnace)\n",
        "df_tls_fd_colapsado=pd.DataFrame(df_tls_fd.groupby(['agrega'])['obs_value'].sum()).reset_index()\n",
        "\n",
        "df_va['agrega'] = df_va['row'] + '*' + df_va['counterpartArea'].map(mapgeo) + '_' + df_va['colIi'].map(mapnace)\n",
        "df_va_colapsado=pd.DataFrame(df_va.groupby(['agrega'])['obs_value'].sum()).reset_index()\n",
        "\n",
        "df_x['agrega'] = df_x['row'] + '*' + df_x['counterpartArea'].map(mapgeo) + '_' + df_x['colIi'].map(mapnace)\n",
        "df_x_colapsado=pd.DataFrame(df_x.groupby(['agrega'])['obs_value'].sum()).reset_index()"
      ],
      "metadata": {
        "id": "dIBtmX3RRJTq"
      },
      "execution_count": null,
      "outputs": []
    },
    {
      "cell_type": "code",
      "source": [
        "df_z_colapsado['origen']=df_z_colapsado['agrega'].str.split('*').str[0]\n",
        "df_z_colapsado['destino']=df_z_colapsado['agrega'].str.split('*').str[1]\n",
        "\n",
        "df_y_colapsado['origen']=df_y_colapsado['agrega'].str.split('*').str[0]\n",
        "df_y_colapsado['destino']=df_y_colapsado['agrega'].str.split('*').str[1]\n",
        "\n",
        "df_tls_ic_colapsado['origen']=df_tls_ic_colapsado['agrega'].str.split('*').str[0]\n",
        "df_tls_ic_colapsado['destino']=df_tls_ic_colapsado['agrega'].str.split('*').str[1]\n",
        "\n",
        "df_tls_fd_colapsado['origen']=df_tls_fd_colapsado['agrega'].str.split('*').str[0]\n",
        "df_tls_fd_colapsado['destino']=df_tls_fd_colapsado['agrega'].str.split('*').str[1]\n",
        "\n",
        "df_va_colapsado['origen']=df_va_colapsado['agrega'].str.split('*').str[0]\n",
        "df_va_colapsado['destino']=df_va_colapsado['agrega'].str.split('*').str[1]\n",
        "\n",
        "df_x_colapsado['origen']=df_x_colapsado['agrega'].str.split('*').str[0]\n",
        "df_x_colapsado['destino']=df_x_colapsado['agrega'].str.split('*').str[1]"
      ],
      "metadata": {
        "id": "Uj6_Wa-3UGNa"
      },
      "execution_count": null,
      "outputs": []
    },
    {
      "cell_type": "code",
      "source": [
        "df_z_tabla = df_z_colapsado.pivot_table(index=\"origen\", columns=\"destino\", values=\"obs_value\")\n",
        "\n",
        "df_y_tabla = df_y_colapsado.pivot_table(index=\"origen\", columns=\"destino\", values=\"obs_value\")\n",
        "\n",
        "df_tls_ic_tabla = df_tls_ic_colapsado.pivot_table(index=\"origen\", columns=\"destino\", values=\"obs_value\")\n",
        "\n",
        "df_tls_fd_tabla = df_tls_fd_colapsado.pivot_table(index=\"origen\", columns=\"destino\", values=\"obs_value\")\n",
        "\n",
        "df_va_tabla = df_va_colapsado.pivot_table(index=\"origen\", columns=\"destino\", values=\"obs_value\")\n",
        "\n",
        "df_x_tabla = df_x_colapsado.pivot_table(index=\"origen\", columns=\"destino\", values=\"obs_value\")"
      ],
      "metadata": {
        "id": "f7QeCICOUN9i"
      },
      "execution_count": null,
      "outputs": []
    },
    {
      "cell_type": "code",
      "source": [
        "matriz_z = df_z_tabla.values\n",
        "matriz_y = df_y_tabla.values\n",
        "matriz_tls_ic = df_tls_ic_tabla.values\n",
        "matriz_tls_fd = df_tls_fd_tabla.values\n",
        "matriz_va = df_va_tabla.values\n",
        "matriz_x = df_x_tabla.values"
      ],
      "metadata": {
        "id": "2-05KlS9Sfcf"
      },
      "execution_count": null,
      "outputs": []
    },
    {
      "cell_type": "code",
      "source": [
        "# Value added to output ratio (VA/X)\n",
        "ratio = matriz_va / matriz_x\n",
        "\n",
        "df_ratio = pd.DataFrame(ratio, columns=df_va_tabla.columns, index=df_va_tabla.index)\n",
        "nuevo_indice = ['VA/X']\n",
        "df_ratio.index = pd.Index(nuevo_indice, name='origen')"
      ],
      "metadata": {
        "id": "ay0EqUR6Hjlw"
      },
      "execution_count": null,
      "outputs": []
    },
    {
      "cell_type": "code",
      "source": [
        "# Input coefficients (Z/X)\n",
        "input_coeff = matriz_z / matriz_x\n",
        "\n",
        "df_input_coeff = pd.DataFrame(input_coeff, columns=df_z_tabla.columns, index=df_z_tabla.index)"
      ],
      "metadata": {
        "id": "ScQSf_JkPycf"
      },
      "execution_count": null,
      "outputs": []
    },
    {
      "cell_type": "code",
      "source": [
        "# Matriz identidad\n",
        "matriz_identidad = np.eye(40)\n",
        "df_matriz_identidad = pd.DataFrame(matriz_identidad, columns=df_z_tabla.columns, index=df_z_tabla.index)\n",
        "\n",
        "# Diferencia entre matriz identidad y matriz de coeficientes técnicos\n",
        "diferencia = matriz_identidad - input_coeff\n",
        "df_diferencia = pd.DataFrame(diferencia, columns=df_z_tabla.columns, index=df_z_tabla.index)\n",
        "\n",
        "# Matriz inversa de Leontief\n",
        "inversa = np.linalg.inv(diferencia)\n",
        "df_inversa = pd.DataFrame(inversa, columns=df_z_tabla.columns, index=df_z_tabla.index)"
      ],
      "metadata": {
        "id": "mUcyYBJeUaif"
      },
      "execution_count": null,
      "outputs": []
    },
    {
      "cell_type": "code",
      "source": [
        "# Gross intermediate trade flows (GRTR_INT)\n",
        "\n",
        "# Se divide las cadenas de texto que se encuentran en las columnas 'origen' y 'destino' en dos partes\n",
        "df_z_colapsado[['origen2','x1']] = df_z_colapsado['origen'].str.split('_', n=1, expand=True)\n",
        "df_z_colapsado[['destino2','x2']] = df_z_colapsado['destino'].str.split('_', n=1, expand=True)\n",
        "df_z_colapsado = df_z_colapsado.drop(['x1', 'x2'], axis=1)\n",
        "\n",
        "df_z_grtr = df_z_colapsado.copy()\n",
        "df_z_grtr['obs_value2'] = np.where(df_z_grtr['origen2'] == df_z_grtr['destino2'], 0, df_z_grtr['obs_value'])\n",
        "df_z_grtr['agrega2'] = df_z_grtr['origen'] + '*' + df_z_grtr['destino2']\n",
        "\n",
        "df_z_grtr2=pd.DataFrame(df_z_grtr.groupby(['agrega2'])['obs_value2'].sum()).reset_index()\n",
        "df_z_grtr2[['origen2','destino2']] = df_z_grtr2['agrega2'].str.split('*', n=1, expand=True)\n"
      ],
      "metadata": {
        "id": "PVOz7m49dWm1"
      },
      "execution_count": null,
      "outputs": []
    },
    {
      "cell_type": "code",
      "source": [
        "df_z_grtr_table = df_z_grtr2.pivot_table(index=\"origen2\", columns=\"destino2\", values=\"obs_value2\")"
      ],
      "metadata": {
        "id": "WXQvENW9NbTJ"
      },
      "execution_count": null,
      "outputs": []
    },
    {
      "cell_type": "code",
      "source": [
        "# Gross final trade flows (GRTR_FNL)\n",
        "\n",
        "# Se divide las cadenas de texto que se encuentran en las columnas 'origen' y 'destino' en dos partes\n",
        "df_y_colapsado[['origen2','x1']] = df_y_colapsado['origen'].str.split('_', n=1, expand=True)\n",
        "df_y_colapsado[['destino2','x2']] = df_y_colapsado['destino'].str.split('_', n=1, expand=True)\n",
        "df_y_colapsado = df_y_colapsado.drop(['x1', 'x2'], axis=1)\n",
        "\n",
        "df_y_grtr = df_y_colapsado.copy()\n",
        "df_y_grtr['obs_value2'] = np.where(df_y_grtr['origen2'] == df_y_grtr['destino2'], 0, df_y_grtr['obs_value'])\n",
        "df_y_grtr['agrega2'] = df_y_grtr['origen'] + '*' + df_y_grtr['destino2']\n",
        "\n",
        "df_y_grtr2=pd.DataFrame(df_y_grtr.groupby(['agrega2'])['obs_value2'].sum()).reset_index()\n",
        "df_y_grtr2[['origen2','destino2']] = df_y_grtr2['agrega2'].str.split('*', n=1, expand=True)"
      ],
      "metadata": {
        "id": "b4AMgjK7iRVt"
      },
      "execution_count": null,
      "outputs": []
    },
    {
      "cell_type": "code",
      "source": [
        "df_y_grtr_table = df_y_grtr2.pivot_table(index=\"origen2\", columns=\"destino2\", values=\"obs_value2\")"
      ],
      "metadata": {
        "id": "Es2aqerydZFt"
      },
      "execution_count": null,
      "outputs": []
    },
    {
      "cell_type": "code",
      "source": [
        "ruta_excel = '/content/drive/MyDrive/TiVA/Indicadores TiVA ESP-FRA.xlsx'\n",
        "\n",
        "with pd.ExcelWriter(ruta_excel, engine='openpyxl') as writer:\n",
        "    # Guardar cada DataFrame en una hoja diferente\n",
        "    df_z_tabla.to_excel(writer, sheet_name='Matriz CI', index=True)\n",
        "    df_y_tabla.to_excel(writer, sheet_name='Matriz DF', index=True)\n",
        "    df_tls_ic_tabla.to_excel(writer, sheet_name='Impuestos CI', index=True)\n",
        "    df_tls_fd_tabla.to_excel(writer, sheet_name='Impuestos DF', index=True)\n",
        "    df_va_tabla.to_excel(writer, sheet_name='VA', index=True)\n",
        "    df_x_tabla.to_excel(writer, sheet_name='Producción', index=True)\n",
        "    df_ratio.to_excel(writer, sheet_name='Ratio VA to X', index=True)\n",
        "    df_z_grtr_table.to_excel(writer, sheet_name='GITF', index=True)\n",
        "    df_y_grtr_table.to_excel(writer, sheet_name='GFTF', index=True)\n",
        "    df_input_coeff.to_excel(writer, sheet_name='Input coefficient', index=True)\n",
        "    df_matriz_identidad.to_excel(writer, sheet_name='Identity matrix', index=True)\n",
        "    df_diferencia.to_excel(writer, sheet_name='I-A', index=True)\n",
        "    df_inversa.to_excel(writer, sheet_name='Leontief inverse', index=True)"
      ],
      "metadata": {
        "id": "EbEuJcUhfuHx"
      },
      "execution_count": null,
      "outputs": []
    },
    {
      "cell_type": "markdown",
      "source": [
        "### **STRUCTURAL INDICATORS - BASED ON THE VALUES IN ICIO TABLES**"
      ],
      "metadata": {
        "id": "J--SUSNTlhTU"
      }
    },
    {
      "cell_type": "code",
      "source": [
        "# 4.1 Production (Gross output)\n",
        "\n",
        "production = round(df_x.loc[df_x['counterpartArea'] == 'ESP', 'obs_value'].sum(), 1)\n",
        "print(\"La producción de ESP es:\", production)"
      ],
      "metadata": {
        "colab": {
          "base_uri": "https://localhost:8080/"
        },
        "id": "rAkKiMmHivGl",
        "outputId": "7f59f969-eaca-44ee-fe89-589c3e8e0a44"
      },
      "execution_count": null,
      "outputs": [
        {
          "output_type": "stream",
          "name": "stdout",
          "text": [
            "La producción de ESP es: 2320651.2\n"
          ]
        }
      ]
    },
    {
      "cell_type": "code",
      "source": [
        "# 4.2 Value added\n",
        "\n",
        "value_added = round(df_va.loc[df_va['counterpartArea'] == 'ESP', 'obs_value'].sum(), 1)\n",
        "print(\"El valor añadido de ESP es:\", value_added)"
      ],
      "metadata": {
        "colab": {
          "base_uri": "https://localhost:8080/"
        },
        "id": "ZkT-CWGwjioe",
        "outputId": "2cd8d759-ece3-4666-d839-92f16efe090b"
      },
      "execution_count": null,
      "outputs": [
        {
          "output_type": "stream",
          "name": "stdout",
          "text": [
            "El valor añadido de ESP es: 1169754.4\n"
          ]
        }
      ]
    },
    {
      "cell_type": "code",
      "source": [
        "# 4.3 Value added as a % of production\n",
        "\n",
        "df_ratio"
      ],
      "metadata": {
        "id": "8KKfT9a04rxK",
        "colab": {
          "base_uri": "https://localhost:8080/",
          "height": 141
        },
        "outputId": "0bf2ace6-8381-450e-d25b-0b3008a77adf"
      },
      "execution_count": null,
      "outputs": [
        {
          "output_type": "execute_result",
          "data": {
            "text/plain": [
              "destino     ESP_A    ESP_B     ESP_C     ESP_D     ESP_E     ESP_F    ESP_G  \\\n",
              "origen                                                                        \n",
              "VA/X     0.526056  0.40062  0.265738  0.410396  0.401466  0.411112  0.55172   \n",
              "\n",
              "destino     ESP_H     ESP_I     ESP_J  ...     FRA_K     FRA_L     FRA_M  \\\n",
              "origen                                 ...                                 \n",
              "VA/X     0.382612  0.533517  0.442724  ...  0.341608  0.808815  0.466627   \n",
              "\n",
              "destino     FRA_N    FRA_O    FRA_P     FRA_Q     FRA_R     FRA_S  FRA_T  \n",
              "origen                                                                    \n",
              "VA/X     0.575436  0.72111  0.82265  0.724136  0.588457  0.608621    1.0  \n",
              "\n",
              "[1 rows x 40 columns]"
            ],
            "text/html": [
              "\n",
              "  <div id=\"df-aac27e1a-5361-4a14-8f2d-f22bd42cbb31\" class=\"colab-df-container\">\n",
              "    <div>\n",
              "<style scoped>\n",
              "    .dataframe tbody tr th:only-of-type {\n",
              "        vertical-align: middle;\n",
              "    }\n",
              "\n",
              "    .dataframe tbody tr th {\n",
              "        vertical-align: top;\n",
              "    }\n",
              "\n",
              "    .dataframe thead th {\n",
              "        text-align: right;\n",
              "    }\n",
              "</style>\n",
              "<table border=\"1\" class=\"dataframe\">\n",
              "  <thead>\n",
              "    <tr style=\"text-align: right;\">\n",
              "      <th>destino</th>\n",
              "      <th>ESP_A</th>\n",
              "      <th>ESP_B</th>\n",
              "      <th>ESP_C</th>\n",
              "      <th>ESP_D</th>\n",
              "      <th>ESP_E</th>\n",
              "      <th>ESP_F</th>\n",
              "      <th>ESP_G</th>\n",
              "      <th>ESP_H</th>\n",
              "      <th>ESP_I</th>\n",
              "      <th>ESP_J</th>\n",
              "      <th>...</th>\n",
              "      <th>FRA_K</th>\n",
              "      <th>FRA_L</th>\n",
              "      <th>FRA_M</th>\n",
              "      <th>FRA_N</th>\n",
              "      <th>FRA_O</th>\n",
              "      <th>FRA_P</th>\n",
              "      <th>FRA_Q</th>\n",
              "      <th>FRA_R</th>\n",
              "      <th>FRA_S</th>\n",
              "      <th>FRA_T</th>\n",
              "    </tr>\n",
              "    <tr>\n",
              "      <th>origen</th>\n",
              "      <th></th>\n",
              "      <th></th>\n",
              "      <th></th>\n",
              "      <th></th>\n",
              "      <th></th>\n",
              "      <th></th>\n",
              "      <th></th>\n",
              "      <th></th>\n",
              "      <th></th>\n",
              "      <th></th>\n",
              "      <th></th>\n",
              "      <th></th>\n",
              "      <th></th>\n",
              "      <th></th>\n",
              "      <th></th>\n",
              "      <th></th>\n",
              "      <th></th>\n",
              "      <th></th>\n",
              "      <th></th>\n",
              "      <th></th>\n",
              "      <th></th>\n",
              "    </tr>\n",
              "  </thead>\n",
              "  <tbody>\n",
              "    <tr>\n",
              "      <th>VA/X</th>\n",
              "      <td>0.526056</td>\n",
              "      <td>0.40062</td>\n",
              "      <td>0.265738</td>\n",
              "      <td>0.410396</td>\n",
              "      <td>0.401466</td>\n",
              "      <td>0.411112</td>\n",
              "      <td>0.55172</td>\n",
              "      <td>0.382612</td>\n",
              "      <td>0.533517</td>\n",
              "      <td>0.442724</td>\n",
              "      <td>...</td>\n",
              "      <td>0.341608</td>\n",
              "      <td>0.808815</td>\n",
              "      <td>0.466627</td>\n",
              "      <td>0.575436</td>\n",
              "      <td>0.72111</td>\n",
              "      <td>0.82265</td>\n",
              "      <td>0.724136</td>\n",
              "      <td>0.588457</td>\n",
              "      <td>0.608621</td>\n",
              "      <td>1.0</td>\n",
              "    </tr>\n",
              "  </tbody>\n",
              "</table>\n",
              "<p>1 rows × 40 columns</p>\n",
              "</div>\n",
              "    <div class=\"colab-df-buttons\">\n",
              "\n",
              "  <div class=\"colab-df-container\">\n",
              "    <button class=\"colab-df-convert\" onclick=\"convertToInteractive('df-aac27e1a-5361-4a14-8f2d-f22bd42cbb31')\"\n",
              "            title=\"Convert this dataframe to an interactive table.\"\n",
              "            style=\"display:none;\">\n",
              "\n",
              "  <svg xmlns=\"http://www.w3.org/2000/svg\" height=\"24px\" viewBox=\"0 -960 960 960\">\n",
              "    <path d=\"M120-120v-720h720v720H120Zm60-500h600v-160H180v160Zm220 220h160v-160H400v160Zm0 220h160v-160H400v160ZM180-400h160v-160H180v160Zm440 0h160v-160H620v160ZM180-180h160v-160H180v160Zm440 0h160v-160H620v160Z\"/>\n",
              "  </svg>\n",
              "    </button>\n",
              "\n",
              "  <style>\n",
              "    .colab-df-container {\n",
              "      display:flex;\n",
              "      gap: 12px;\n",
              "    }\n",
              "\n",
              "    .colab-df-convert {\n",
              "      background-color: #E8F0FE;\n",
              "      border: none;\n",
              "      border-radius: 50%;\n",
              "      cursor: pointer;\n",
              "      display: none;\n",
              "      fill: #1967D2;\n",
              "      height: 32px;\n",
              "      padding: 0 0 0 0;\n",
              "      width: 32px;\n",
              "    }\n",
              "\n",
              "    .colab-df-convert:hover {\n",
              "      background-color: #E2EBFA;\n",
              "      box-shadow: 0px 1px 2px rgba(60, 64, 67, 0.3), 0px 1px 3px 1px rgba(60, 64, 67, 0.15);\n",
              "      fill: #174EA6;\n",
              "    }\n",
              "\n",
              "    .colab-df-buttons div {\n",
              "      margin-bottom: 4px;\n",
              "    }\n",
              "\n",
              "    [theme=dark] .colab-df-convert {\n",
              "      background-color: #3B4455;\n",
              "      fill: #D2E3FC;\n",
              "    }\n",
              "\n",
              "    [theme=dark] .colab-df-convert:hover {\n",
              "      background-color: #434B5C;\n",
              "      box-shadow: 0px 1px 3px 1px rgba(0, 0, 0, 0.15);\n",
              "      filter: drop-shadow(0px 1px 2px rgba(0, 0, 0, 0.3));\n",
              "      fill: #FFFFFF;\n",
              "    }\n",
              "  </style>\n",
              "\n",
              "    <script>\n",
              "      const buttonEl =\n",
              "        document.querySelector('#df-aac27e1a-5361-4a14-8f2d-f22bd42cbb31 button.colab-df-convert');\n",
              "      buttonEl.style.display =\n",
              "        google.colab.kernel.accessAllowed ? 'block' : 'none';\n",
              "\n",
              "      async function convertToInteractive(key) {\n",
              "        const element = document.querySelector('#df-aac27e1a-5361-4a14-8f2d-f22bd42cbb31');\n",
              "        const dataTable =\n",
              "          await google.colab.kernel.invokeFunction('convertToInteractive',\n",
              "                                                    [key], {});\n",
              "        if (!dataTable) return;\n",
              "\n",
              "        const docLinkHtml = 'Like what you see? Visit the ' +\n",
              "          '<a target=\"_blank\" href=https://colab.research.google.com/notebooks/data_table.ipynb>data table notebook</a>'\n",
              "          + ' to learn more about interactive tables.';\n",
              "        element.innerHTML = '';\n",
              "        dataTable['output_type'] = 'display_data';\n",
              "        await google.colab.output.renderOutput(dataTable, element);\n",
              "        const docLink = document.createElement('div');\n",
              "        docLink.innerHTML = docLinkHtml;\n",
              "        element.appendChild(docLink);\n",
              "      }\n",
              "    </script>\n",
              "  </div>\n",
              "\n",
              "    </div>\n",
              "  </div>\n"
            ],
            "application/vnd.google.colaboratory.intrinsic+json": {
              "type": "dataframe",
              "variable_name": "df_ratio"
            }
          },
          "metadata": {},
          "execution_count": 29
        }
      ]
    },
    {
      "cell_type": "code",
      "source": [
        "# 4.4 Gross exports\n",
        "\n",
        "# Intermediate products\n",
        "int_exports = round(df_z_grtr.loc[(df_z_grtr['origen2'] == 'ESP') & (df_z_grtr['destino2'] == 'FRA'), 'obs_value2'].sum(), 1)\n",
        "print(\"Las exportaciones de productos intermedios para ESP son:\", int_exports)\n",
        "\n",
        "# Final products\n",
        "final_exports = round(df_y_grtr.loc[(df_y_grtr['origen2'] == 'ESP') & (df_y_grtr['destino2'] == 'FRA'), 'obs_value2'].sum(), 1)\n",
        "print(\"Las exportaciones de productos terminados para ESP son:\", final_exports)\n",
        "\n",
        "# Total gross exports\n",
        "total_exports = round(int_exports + final_exports, 1)\n",
        "print(\"Las exportaciones totales para ESP son:\", total_exports)"
      ],
      "metadata": {
        "colab": {
          "base_uri": "https://localhost:8080/"
        },
        "id": "bfHeWIVH455M",
        "outputId": "f591cb1d-95ce-48a9-dfb6-3aac6ed56e3f"
      },
      "execution_count": null,
      "outputs": [
        {
          "output_type": "stream",
          "name": "stdout",
          "text": [
            "Las exportaciones de productos intermedios para ESP son: 27700.2\n",
            "Las exportaciones de productos terminados para ESP son: 24362.2\n",
            "Las exportaciones totales para ESP son: 52062.4\n"
          ]
        }
      ]
    },
    {
      "cell_type": "code",
      "source": [
        "# 4.5 Gross imports\n",
        "\n",
        "# Intermediate products\n",
        "int_imports = round(df_z_grtr.loc[(df_z_grtr['origen2'] == 'FRA') & (df_z_grtr['destino2'] == 'ESP'), 'obs_value2'].sum(), 1)\n",
        "print(\"Las importaciones de productos intermedios para ESP son:\", int_imports)\n",
        "\n",
        "# Final products\n",
        "final_imports = round(df_y_grtr.loc[(df_y_grtr['origen2'] == 'FRA') & (df_y_grtr['destino2'] == 'ESP'), 'obs_value2'].sum(), 1)\n",
        "print(\"Las importaciones de productos terminados para ESP son:\", final_imports)\n",
        "\n",
        "# Total gross imports\n",
        "total_imports = round(int_imports + final_imports, 1)\n",
        "print(\"Las importaciones totales para ESP son:\", total_imports)"
      ],
      "metadata": {
        "colab": {
          "base_uri": "https://localhost:8080/"
        },
        "id": "97mguwR_v2NC",
        "outputId": "0a66be80-d275-4614-a09c-734821efe509"
      },
      "execution_count": null,
      "outputs": [
        {
          "output_type": "stream",
          "name": "stdout",
          "text": [
            "Las importaciones de productos intermedios para ESP son: 21092.3\n",
            "Las importaciones de productos terminados para ESP son: 13501.2\n",
            "Las importaciones totales para ESP son: 34593.5\n"
          ]
        }
      ]
    },
    {
      "cell_type": "code",
      "source": [
        "# 4.6 Gross trade balance\n",
        "\n",
        "# Difference between Gross Exports and Gross Imports\n",
        "gross_trade_balance = round(total_exports - total_imports, 1)\n",
        "print(\"El balance de exportaciones/importaciones de ESP son:\", gross_trade_balance)"
      ],
      "metadata": {
        "colab": {
          "base_uri": "https://localhost:8080/"
        },
        "id": "zG597mmrzTtp",
        "outputId": "518d3d47-e84a-4200-c5c8-546ead3f7099"
      },
      "execution_count": null,
      "outputs": [
        {
          "output_type": "stream",
          "name": "stdout",
          "text": [
            "El balance de exportaciones/importaciones de ESP son: 17468.9\n"
          ]
        }
      ]
    },
    {
      "cell_type": "code",
      "source": [
        "# 4.7 Gross exports, partner shares (%)"
      ],
      "metadata": {
        "id": "4eho_WvH2mGr"
      },
      "execution_count": null,
      "outputs": []
    },
    {
      "cell_type": "code",
      "source": [
        "# 4.8 Gross imports, partner shares (%)"
      ],
      "metadata": {
        "id": "fByud-K029wK"
      },
      "execution_count": null,
      "outputs": []
    },
    {
      "cell_type": "code",
      "source": [
        "# 5.1 Domestic value added content of gross exports"
      ],
      "metadata": {
        "id": "2IqiHlRP3HLn"
      },
      "execution_count": null,
      "outputs": []
    }
  ]
}
